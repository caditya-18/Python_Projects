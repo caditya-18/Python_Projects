{
 "cells": [
  {
   "cell_type": "code",
   "execution_count": 3,
   "id": "4d070d29",
   "metadata": {},
   "outputs": [
    {
     "name": "stdout",
     "output_type": "stream",
     "text": [
      "Enter the message to be decriptedAttack\n",
      "Awwdfn\n"
     ]
    }
   ],
   "source": [
    "alphabet='abcdefghijklmnopqrstuvwxyz'\n",
    "input_text=input('Enter the message to be decripted')\n",
    "\n",
    "#function to avoid indexing problem \n",
    "def shift_amount(i):\n",
    "    return i%26\n",
    "\n",
    "#function for the actual cipher \n",
    "def encrypt(text, required_shift):\n",
    "    output_1=''\n",
    "    text=text.lower()\n",
    "    for char in input_text:\n",
    "        if char not in alphabet:\n",
    "            output_1=output_1+char\n",
    "        else:\n",
    "            alpha_index=alphabet.find(char)\n",
    "            output_1=output_1+alphabet[shift_amount(alpha_index+3)]\n",
    "    print(output_1)\n",
    "shift=encrypt(input_text,31)"
   ]
  },
  {
   "cell_type": "code",
   "execution_count": null,
   "id": "144acc5c",
   "metadata": {},
   "outputs": [],
   "source": []
  }
 ],
 "metadata": {
  "kernelspec": {
   "display_name": "Python 3 (ipykernel)",
   "language": "python",
   "name": "python3"
  },
  "language_info": {
   "codemirror_mode": {
    "name": "ipython",
    "version": 3
   },
   "file_extension": ".py",
   "mimetype": "text/x-python",
   "name": "python",
   "nbconvert_exporter": "python",
   "pygments_lexer": "ipython3",
   "version": "3.9.7"
  }
 },
 "nbformat": 4,
 "nbformat_minor": 5
}
